{
  "cells": [
    {
      "cell_type": "markdown",
      "metadata": {
        "id": "view-in-github",
        "colab_type": "text"
      },
      "source": [
        "<a href=\"https://colab.research.google.com/github/baebae6ae/machine-learning-pytorch/blob/main/ML_pytorch.ipynb\" target=\"_parent\"><img src=\"https://colab.research.google.com/assets/colab-badge.svg\" alt=\"Open In Colab\"/></a>"
      ]
    },
    {
      "cell_type": "code",
      "metadata": {
        "colab": {
          "base_uri": "https://localhost:8080/"
        },
        "id": "JS9goVu79-_I",
        "outputId": "57995d82-d122-498d-9bfa-c3aa7f6d881a"
      },
      "source": [
        "from google.colab import drive\n",
        "drive.mount('/content/drive')"
      ],
      "execution_count": 3,
      "outputs": [
        {
          "output_type": "stream",
          "name": "stdout",
          "text": [
            "Mounted at /content/drive\n"
          ]
        }
      ]
    },
    {
      "cell_type": "code",
      "execution_count": 4,
      "metadata": {
        "id": "Biz5aNtkCsdl"
      },
      "outputs": [],
      "source": [
        "import pandas as pd\n",
        "import numpy as np\n",
        "import torch\n",
        "from sklearn.model_selection import train_test_split\n",
        "import matplotlib.pyplot as plt"
      ]
    },
    {
      "cell_type": "code",
      "execution_count": 5,
      "metadata": {
        "id": "K_NaE1LHCsdp",
        "colab": {
          "base_uri": "https://localhost:8080/"
        },
        "outputId": "7a39b215-b7b0-4366-a149-72dc28405091"
      },
      "outputs": [
        {
          "output_type": "stream",
          "name": "stdout",
          "text": [
            "       수분    중량    크기  침지 후 크기(2.5시간)  침지 후 크기(16시간)  침지 후 수분(2.5시간)\n",
            "0     8.6  16.0  99.7             175            255            45.0\n",
            "1     9.9  14.7  99.2             160            240            45.0\n",
            "2    10.7  15.7  99.7             155            240            45.0\n",
            "3     9.9  17.3  99.5             195            255            46.6\n",
            "4     9.6  16.8  99.6             210            260            51.7\n",
            "..    ...   ...   ...             ...            ...             ...\n",
            "116   8.8  16.4  99.5             185            260            49.1\n",
            "117   9.6  18.2  99.6             180            275            46.7\n",
            "118   8.5  16.1  99.7             175            248            44.9\n",
            "119   8.9  16.7  99.1             175            255            50.6\n",
            "120   9.6  17.9  99.6             175            260            49.2\n",
            "\n",
            "[117 rows x 6 columns]\n",
            "(117, 6)\n",
            "(117, 3)\n",
            "           수분        중량        크기  침지 후 크기(2.5시간)  침지 후 크기(16시간)  \\\n",
            "0   -0.977104 -0.884382  0.241513       -1.040076       0.094665   \n",
            "1    0.218532 -1.626735 -1.328320       -2.065545      -0.770629   \n",
            "2    0.954308 -1.055694  0.241513       -2.407368      -0.770629   \n",
            "3    0.218532 -0.142028 -0.386420        0.327215       0.094665   \n",
            "4   -0.057384 -0.427549 -0.072454        1.352684       0.383096   \n",
            "..        ...       ...       ...             ...            ...   \n",
            "116 -0.793160 -0.655965 -0.386420       -0.356431       0.383096   \n",
            "117 -0.057384  0.371909 -0.072454       -0.698254       1.248389   \n",
            "118 -1.069076 -0.827277  0.241513       -1.040076      -0.309139   \n",
            "119 -0.701188 -0.484653 -1.642286       -1.040076       0.094665   \n",
            "120 -0.057384  0.200596 -0.072454       -1.040076       0.383096   \n",
            "\n",
            "     침지 후 수분(2.5시간)  \n",
            "0         -0.307645  \n",
            "1         -0.307645  \n",
            "2         -0.307645  \n",
            "3         -0.183124  \n",
            "4          0.213788  \n",
            "..              ...  \n",
            "116        0.011441  \n",
            "117       -0.175341  \n",
            "118       -0.315428  \n",
            "119        0.128180  \n",
            "120        0.019224  \n",
            "\n",
            "[117 rows x 6 columns]\n"
          ]
        }
      ],
      "source": [
        "label = pd.read_csv(\"/content/drive/MyDrive/data3.csv\")#, encoding='cp949')\n",
        "label = label.dropna()\n",
        "print(label)\n",
        "m=label.mean()\n",
        "n=label.std()\n",
        "label = (label-m)/n\n",
        "raw_x = label[[\"수분\", \"중량\", \"크기\"]]\n",
        "#raw_x = label[[\"수분\"]]\n",
        "#raw_x = label[[\"중량\"]]\n",
        "#raw_x = label[[\"크기\"]]\n",
        "raw_y = label[[\"침지 후 수분(2.5시간)\"]]\n",
        "print(label.shape)\n",
        "print(raw_x.shape)\n",
        "print(label)\n"
      ]
    },
    {
      "cell_type": "code",
      "execution_count": 6,
      "metadata": {
        "id": "B7O4y_GsCsdp"
      },
      "outputs": [],
      "source": [
        "train_x, test_x, train_y, test_y = train_test_split(raw_x, raw_y, test_size=0.1, random_state=42)\n",
        "train_x = torch.FloatTensor(np.array(train_x))\n",
        "test_x = torch.FloatTensor(np.array(test_x))\n",
        "train_y = torch.FloatTensor(np.array(train_y))\n",
        "test_y = torch.FloatTensor(np.array(test_y))"
      ]
    },
    {
      "cell_type": "code",
      "source": [
        "print(train_x.shape)\n",
        "print(train_y.shape)"
      ],
      "metadata": {
        "colab": {
          "base_uri": "https://localhost:8080/"
        },
        "id": "TWYNWEubhUP6",
        "outputId": "9d16d4c1-d829-43b5-e9b8-eab8d96467e9"
      },
      "execution_count": 62,
      "outputs": [
        {
          "output_type": "stream",
          "name": "stdout",
          "text": [
            "torch.Size([105, 3])\n",
            "torch.Size([105, 1])\n"
          ]
        }
      ]
    },
    {
      "cell_type": "code",
      "execution_count": 25,
      "metadata": {
        "id": "ShsHWnp5Csdq"
      },
      "outputs": [],
      "source": [
        "model = torch.nn.Sequential(torch.nn.Linear(3, 64), torch.nn.ReLU(), torch.nn.Linear(64, 64), torch.nn.ReLU(), torch.nn.Linear(64, 1))\n",
        "loss = torch.nn.MSELoss()\n",
        "accuacy = torch.nn.MSEA\n",
        "opt = torch.optim.Adam(model.parameters(), 0.01, [0.9, 0.99])"
      ]
    },
    {
      "cell_type": "code",
      "execution_count": 26,
      "metadata": {
        "id": "m2Yw9zAqCsdq",
        "outputId": "636175e8-a944-45b8-abbf-1f7bf8f6f8db",
        "colab": {
          "base_uri": "https://localhost:8080/"
        }
      },
      "outputs": [
        {
          "output_type": "stream",
          "name": "stdout",
          "text": [
            "tensor(0.0316, grad_fn=<MseLossBackward0>)\n",
            "tensor(9.3853, grad_fn=<MseLossBackward0>)\n",
            "\n",
            "tensor(0.0626, grad_fn=<MseLossBackward0>)\n",
            "tensor(9.9030, grad_fn=<MseLossBackward0>)\n",
            "\n",
            "tensor(0.0683, grad_fn=<MseLossBackward0>)\n",
            "tensor(9.7992, grad_fn=<MseLossBackward0>)\n",
            "\n",
            "tensor(0.0320, grad_fn=<MseLossBackward0>)\n",
            "tensor(9.6560, grad_fn=<MseLossBackward0>)\n",
            "\n",
            "tensor(0.0239, grad_fn=<MseLossBackward0>)\n",
            "tensor(9.5693, grad_fn=<MseLossBackward0>)\n",
            "\n",
            "tensor(0.0346, grad_fn=<MseLossBackward0>)\n",
            "tensor(9.5478, grad_fn=<MseLossBackward0>)\n",
            "\n",
            "tensor(0.0358, grad_fn=<MseLossBackward0>)\n",
            "tensor(9.5603, grad_fn=<MseLossBackward0>)\n",
            "\n",
            "tensor(0.0298, grad_fn=<MseLossBackward0>)\n",
            "tensor(9.5845, grad_fn=<MseLossBackward0>)\n",
            "\n",
            "tensor(0.0245, grad_fn=<MseLossBackward0>)\n",
            "tensor(9.6141, grad_fn=<MseLossBackward0>)\n",
            "\n",
            "tensor(0.0228, grad_fn=<MseLossBackward0>)\n",
            "tensor(9.6392, grad_fn=<MseLossBackward0>)\n",
            "\n",
            "tensor(0.0233, grad_fn=<MseLossBackward0>)\n",
            "tensor(9.6519, grad_fn=<MseLossBackward0>)\n",
            "\n",
            "tensor(0.0233, grad_fn=<MseLossBackward0>)\n",
            "tensor(9.6536, grad_fn=<MseLossBackward0>)\n",
            "\n",
            "tensor(0.0226, grad_fn=<MseLossBackward0>)\n",
            "tensor(9.6532, grad_fn=<MseLossBackward0>)\n",
            "\n",
            "tensor(0.0219, grad_fn=<MseLossBackward0>)\n",
            "tensor(9.6587, grad_fn=<MseLossBackward0>)\n",
            "\n",
            "tensor(0.0216, grad_fn=<MseLossBackward0>)\n",
            "tensor(9.6752, grad_fn=<MseLossBackward0>)\n",
            "\n",
            "tensor(0.0214, grad_fn=<MseLossBackward0>)\n",
            "tensor(9.7030, grad_fn=<MseLossBackward0>)\n",
            "\n",
            "tensor(0.0210, grad_fn=<MseLossBackward0>)\n",
            "tensor(9.7362, grad_fn=<MseLossBackward0>)\n",
            "\n",
            "tensor(0.0206, grad_fn=<MseLossBackward0>)\n",
            "tensor(9.7725, grad_fn=<MseLossBackward0>)\n",
            "\n",
            "tensor(0.0202, grad_fn=<MseLossBackward0>)\n",
            "tensor(9.8058, grad_fn=<MseLossBackward0>)\n",
            "\n",
            "tensor(0.0199, grad_fn=<MseLossBackward0>)\n",
            "tensor(9.8289, grad_fn=<MseLossBackward0>)\n",
            "\n",
            "tensor(0.0197, grad_fn=<MseLossBackward0>)\n",
            "tensor(9.8363, grad_fn=<MseLossBackward0>)\n",
            "\n",
            "tensor(0.0195, grad_fn=<MseLossBackward0>)\n",
            "tensor(9.8276, grad_fn=<MseLossBackward0>)\n",
            "\n",
            "tensor(0.0191, grad_fn=<MseLossBackward0>)\n",
            "tensor(9.8071, grad_fn=<MseLossBackward0>)\n",
            "\n",
            "tensor(0.0187, grad_fn=<MseLossBackward0>)\n",
            "tensor(9.7816, grad_fn=<MseLossBackward0>)\n",
            "\n",
            "tensor(0.0183, grad_fn=<MseLossBackward0>)\n",
            "tensor(9.7577, grad_fn=<MseLossBackward0>)\n",
            "\n",
            "tensor(0.0181, grad_fn=<MseLossBackward0>)\n",
            "tensor(9.7395, grad_fn=<MseLossBackward0>)\n",
            "\n",
            "tensor(0.0180, grad_fn=<MseLossBackward0>)\n",
            "tensor(9.7310, grad_fn=<MseLossBackward0>)\n",
            "\n",
            "tensor(0.0179, grad_fn=<MseLossBackward0>)\n",
            "tensor(9.7324, grad_fn=<MseLossBackward0>)\n",
            "\n",
            "tensor(0.0177, grad_fn=<MseLossBackward0>)\n",
            "tensor(9.7432, grad_fn=<MseLossBackward0>)\n",
            "\n",
            "tensor(0.0176, grad_fn=<MseLossBackward0>)\n",
            "tensor(9.7619, grad_fn=<MseLossBackward0>)\n",
            "\n"
          ]
        }
      ],
      "source": [
        "for i in range(30):\n",
        "    opt.zero_grad()\n",
        "    pred = model(train_x)\n",
        "    l = loss(pred, train_y)\n",
        "    l.backward()\n",
        "    opt.step()\n",
        "    \n",
        "    pred_ = model(test_x)\n",
        "    print(loss(pred, train_y))\n",
        "    print(loss(pred_, test_y))\n",
        "    print()\n"
      ]
    },
    {
      "cell_type": "code",
      "execution_count": null,
      "metadata": {
        "id": "VsipDqu6Csdr"
      },
      "outputs": [],
      "source": [
        "print(list(model.parameters()))"
      ]
    },
    {
      "cell_type": "code",
      "source": [
        "print(m, n)"
      ],
      "metadata": {
        "colab": {
          "base_uri": "https://localhost:8080/"
        },
        "id": "MEkg3xQjdC1n",
        "outputId": "f6863662-658f-4dca-d7b7-1cc65d7916e6"
      },
      "execution_count": 27,
      "outputs": [
        {
          "output_type": "stream",
          "name": "stdout",
          "text": [
            "수분                  9.662393\n",
            "중량                 17.548718\n",
            "크기                 99.623077\n",
            "침지 후 크기(2.5시간)    190.213675\n",
            "침지 후 크기(16시간)     253.358974\n",
            "침지 후 수분(2.5시간)     48.952991\n",
            "dtype: float64 수분                 1.087288\n",
            "중량                 1.751188\n",
            "크기                 0.318505\n",
            "침지 후 크기(2.5시간)    14.627459\n",
            "침지 후 크기(16시간)     17.335165\n",
            "침지 후 수분(2.5시간)    12.849195\n",
            "dtype: float64\n"
          ]
        }
      ]
    },
    {
      "cell_type": "code",
      "source": [
        "col_name = ['수분', '중량', '크기']\n",
        "x = [[10, 15, 99.7]]\n",
        "x_df = pd.DataFrame(x, columns=col_name)\n",
        "#print(x_df)\n",
        "x1=(x_df-m)/n\n",
        "#print(x1)\n",
        "x2 = x1[[\"수분\", \"중량\", \"크기\"]]\n",
        "x3 = torch.FloatTensor(np.array(x2))\n",
        "p = model(x3)\n",
        "#print(p*12.849195 + 48.952991)\n",
        "print(p*n[\"침지 후 수분(2.5시간)\"] + m[\"침지 후 수분(2.5시간)\"])"
      ],
      "metadata": {
        "colab": {
          "base_uri": "https://localhost:8080/"
        },
        "id": "imRSzIbS-PbC",
        "outputId": "147617ae-283b-451f-8243-cf21a8ff86fc"
      },
      "execution_count": 28,
      "outputs": [
        {
          "output_type": "stream",
          "name": "stdout",
          "text": [
            "tensor([[45.4813]], grad_fn=<AddBackward0>)\n"
          ]
        }
      ]
    }
  ],
  "metadata": {
    "kernelspec": {
      "display_name": "Python 3",
      "language": "python",
      "name": "python3"
    },
    "language_info": {
      "codemirror_mode": {
        "name": "ipython",
        "version": 3
      },
      "file_extension": ".py",
      "mimetype": "text/x-python",
      "name": "python",
      "nbconvert_exporter": "python",
      "pygments_lexer": "ipython3",
      "version": "3.6.4"
    },
    "colab": {
      "name": "ML_pytorch.ipynb",
      "provenance": [],
      "collapsed_sections": [],
      "include_colab_link": true
    }
  },
  "nbformat": 4,
  "nbformat_minor": 0
}